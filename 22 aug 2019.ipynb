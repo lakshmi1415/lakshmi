{
 "cells": [
  {
   "cell_type": "markdown",
   "metadata": {},
   "source": [
    "## Files in python"
   ]
  },
  {
   "cell_type": "code",
   "execution_count": null,
   "metadata": {},
   "outputs": [],
   "source": []
  },
  {
   "cell_type": "markdown",
   "metadata": {},
   "source": [
    "### 3 steps to work with files in python\n",
    "- open file by specifing operation\n",
    "- do your required operation\n",
    "- close the file which is opened"
   ]
  },
  {
   "cell_type": "markdown",
   "metadata": {},
   "source": [
    "#### read data the book.txt"
   ]
  },
  {
   "cell_type": "code",
   "execution_count": 1,
   "metadata": {},
   "outputs": [
    {
     "name": "stdout",
     "output_type": "stream",
     "text": [
      "line 1\n",
      "line 2\n",
      "line 4\n",
      "line 3\n"
     ]
    }
   ],
   "source": [
    "fh=open('book.txt','r')\n",
    "\n",
    "data = fh.read()\n",
    "print(data)\n",
    "fh.close()"
   ]
  },
  {
   "cell_type": "markdown",
   "metadata": {},
   "source": [
    "#### write data into mystory.txt"
   ]
  },
  {
   "cell_type": "code",
   "execution_count": 3,
   "metadata": {},
   "outputs": [],
   "source": [
    "fh = open('mystory.txt','w')\n",
    "\n",
    "content = 'this is my story'\n",
    "fh.write(content)\n",
    "fh.close()"
   ]
  },
  {
   "cell_type": "code",
   "execution_count": 5,
   "metadata": {},
   "outputs": [
    {
     "name": "stdout",
     "output_type": "stream",
     "text": [
      "this is my story\n"
     ]
    },
    {
     "ename": "UnsupportedOperation",
     "evalue": "not writable",
     "output_type": "error",
     "traceback": [
      "\u001b[1;31m---------------------------------------------------------------------------\u001b[0m",
      "\u001b[1;31mUnsupportedOperation\u001b[0m                      Traceback (most recent call last)",
      "\u001b[1;32m<ipython-input-5-18a4c89aaf8d>\u001b[0m in \u001b[0;36m<module>\u001b[1;34m\u001b[0m\n\u001b[0;32m      3\u001b[0m \u001b[0mdata\u001b[0m \u001b[1;33m=\u001b[0m \u001b[0mfh\u001b[0m\u001b[1;33m.\u001b[0m\u001b[0mread\u001b[0m\u001b[1;33m(\u001b[0m\u001b[1;33m)\u001b[0m\u001b[1;33m\u001b[0m\u001b[1;33m\u001b[0m\u001b[0m\n\u001b[0;32m      4\u001b[0m \u001b[0mprint\u001b[0m\u001b[1;33m(\u001b[0m\u001b[0mdata\u001b[0m\u001b[1;33m)\u001b[0m\u001b[1;33m\u001b[0m\u001b[1;33m\u001b[0m\u001b[0m\n\u001b[1;32m----> 5\u001b[1;33m \u001b[0mfh\u001b[0m\u001b[1;33m.\u001b[0m\u001b[0mwrite\u001b[0m\u001b[1;33m(\u001b[0m\u001b[0mcontent\u001b[0m\u001b[1;33m)\u001b[0m\u001b[1;33m\u001b[0m\u001b[1;33m\u001b[0m\u001b[0m\n\u001b[0m\u001b[0;32m      6\u001b[0m \u001b[0mfh\u001b[0m\u001b[1;33m.\u001b[0m\u001b[0mclose\u001b[0m\u001b[1;33m(\u001b[0m\u001b[1;33m)\u001b[0m\u001b[1;33m\u001b[0m\u001b[1;33m\u001b[0m\u001b[0m\n",
      "\u001b[1;31mUnsupportedOperation\u001b[0m: not writable"
     ]
    }
   ],
   "source": [
    "fh = open('mystory.txt','r')\n",
    "content ='this is my story'\n",
    "data = fh.read()\n",
    "print(data)\n",
    "fh.write(content)\n",
    "fh.close()"
   ]
  },
  {
   "cell_type": "code",
   "execution_count": 9,
   "metadata": {},
   "outputs": [],
   "source": [
    "fh1 = open('book.txt','r')\n",
    "fh2 = open('my story.txt','w')\n",
    "data = fh1.read()\n",
    "fh2.write(data)\n",
    "fh1.close()\n",
    "fh2.close()"
   ]
  },
  {
   "cell_type": "code",
   "execution_count": 11,
   "metadata": {},
   "outputs": [],
   "source": [
    "fh=open('mystory.txt','w')\n",
    "content='this is my story' \n",
    "fh.write(content)\n",
    "fh.write('this is my second story')\n",
    "fh.close()"
   ]
  },
  {
   "cell_type": "code",
   "execution_count": 12,
   "metadata": {},
   "outputs": [
    {
     "name": "stdout",
     "output_type": "stream",
     "text": [
      "cursor 0\n",
      "cursor 30\n"
     ]
    }
   ],
   "source": [
    "fh = open('my story.txt','r')\n",
    "print('cursor',fh.tell())\n",
    "data1 = fh.read()\n",
    "print('cursor',fh.tell())\n",
    "fh.close()"
   ]
  },
  {
   "cell_type": "code",
   "execution_count": 13,
   "metadata": {},
   "outputs": [
    {
     "name": "stdout",
     "output_type": "stream",
     "text": [
      "cursor 39\n",
      "cursor 0\n",
      "this is my storythis is my second story\n"
     ]
    }
   ],
   "source": [
    "fh = open('mystory.txt','r' )\n",
    "fh.read()\n",
    "print('cursor',fh.tell())\n",
    "fh.seek(0)\n",
    "print('cursor',fh.tell())\n",
    "data=fh.read()\n",
    "print(data)\n",
    "fh.close()"
   ]
  },
  {
   "cell_type": "code",
   "execution_count": 14,
   "metadata": {},
   "outputs": [
    {
     "name": "stdout",
     "output_type": "stream",
     "text": [
      "cursor 39\n",
      "cursor 5\n",
      "is my storythis is my second story\n"
     ]
    }
   ],
   "source": [
    "fh = open('mystory.txt','r' )\n",
    "fh.read()\n",
    "print('cursor',fh.tell())\n",
    "fh.seek(5)\n",
    "print('cursor',fh.tell())\n",
    "data=fh.read()\n",
    "print(data)\n",
    "fh.close()"
   ]
  },
  {
   "cell_type": "code",
   "execution_count": 15,
   "metadata": {},
   "outputs": [],
   "source": [
    "fh=open('mystory.txt','a')\n",
    "fh.write('story 3')\n",
    "fh.close()"
   ]
  },
  {
   "cell_type": "code",
   "execution_count": 18,
   "metadata": {},
   "outputs": [],
   "source": [
    "import re\n",
    "fh1=open('book.txt','r')\n",
    "fh2=open('mystory.txt','w')\n",
    "data=fh1.read().strip()\n",
    "numbers=re.findall('\\d+',data)\n",
    "for each in numbers:\n",
    "    fh2.write(each+'\\n')\n",
    "fh1.close()\n",
    "fh2.close()"
   ]
  },
  {
   "cell_type": "code",
   "execution_count": 20,
   "metadata": {},
   "outputs": [
    {
     "name": "stdout",
     "output_type": "stream",
     "text": [
      "line 1\n",
      "\n",
      "line 2\n",
      "\n",
      "line 4\n",
      "\n",
      "line 3\n"
     ]
    }
   ],
   "source": [
    "fh=open('book.txt')\n",
    "for line in fh:\n",
    "    print(line)\n",
    "fh.close()"
   ]
  },
  {
   "cell_type": "code",
   "execution_count": 22,
   "metadata": {},
   "outputs": [
    {
     "name": "stdout",
     "output_type": "stream",
     "text": [
      "no of lines in file 4\n"
     ]
    }
   ],
   "source": [
    "fh=open('book.txt')\n",
    "count = 0\n",
    "for line in fh:\n",
    "    count += 1\n",
    "print('no of lines in file',count)\n",
    "fh.close()"
   ]
  },
  {
   "cell_type": "code",
   "execution_count": 1,
   "metadata": {},
   "outputs": [
    {
     "name": "stdout",
     "output_type": "stream",
     "text": [
      "no of lines in file 4\n"
     ]
    }
   ],
   "source": [
    "fh=open('book.txt')\n",
    "count = 0\n",
    "for line in fh:\n",
    "    count += 1\n",
    "print('no of lines in file',count)\n",
    "fh.close()"
   ]
  },
  {
   "cell_type": "code",
   "execution_count": 2,
   "metadata": {},
   "outputs": [
    {
     "name": "stdout",
     "output_type": "stream",
     "text": [
      "line 2\n",
      "\n"
     ]
    }
   ],
   "source": [
    "fh = open('book.txt','r')\n",
    "line1 = fh.readline()\n",
    "line2 = fh.readline()\n",
    "print(line2)\n",
    "fh.close()"
   ]
  },
  {
   "cell_type": "code",
   "execution_count": 4,
   "metadata": {},
   "outputs": [
    {
     "name": "stdout",
     "output_type": "stream",
     "text": [
      "['line 2\\n', 'line 4\\n', 'line 3']\n"
     ]
    }
   ],
   "source": [
    "fh = open('book.txt','r')\n",
    "line1 = fh.readline()\n",
    "line2 = fh.readlines()\n",
    "print(line2)\n",
    "fh.close()"
   ]
  },
  {
   "cell_type": "code",
   "execution_count": 5,
   "metadata": {},
   "outputs": [
    {
     "name": "stdout",
     "output_type": "stream",
     "text": [
      "1\n",
      "line 2\n",
      "line 4\n",
      "line 3\n"
     ]
    }
   ],
   "source": [
    "fh = open('book.txt','r+')\n",
    "fh.write('hiiii')\n",
    "data = fh.read()\n",
    "print(data)\n",
    "fh.close()"
   ]
  },
  {
   "cell_type": "code",
   "execution_count": 6,
   "metadata": {},
   "outputs": [
    {
     "name": "stdout",
     "output_type": "stream",
     "text": [
      "\n"
     ]
    }
   ],
   "source": [
    "fh = open('book.txt','w+')\n",
    "fh.write('line 6')\n",
    "print(fh.read())\n",
    "fh.close()"
   ]
  },
  {
   "cell_type": "code",
   "execution_count": 11,
   "metadata": {},
   "outputs": [
    {
     "ename": "IndentationError",
     "evalue": "expected an indented block (<ipython-input-11-1e424c172819>, line 3)",
     "output_type": "error",
     "traceback": [
      "\u001b[1;36m  File \u001b[1;32m\"<ipython-input-11-1e424c172819>\"\u001b[1;36m, line \u001b[1;32m3\u001b[0m\n\u001b[1;33m    print(i)\u001b[0m\n\u001b[1;37m        ^\u001b[0m\n\u001b[1;31mIndentationError\u001b[0m\u001b[1;31m:\u001b[0m expected an indented block\n"
     ]
    }
   ],
   "source": [
    "import re\n",
    "fh=open('book.txt',)"
   ]
  },
  {
   "cell_type": "code",
   "execution_count": 12,
   "metadata": {},
   "outputs": [
    {
     "name": "stdout",
     "output_type": "stream",
     "text": [
      "rno          name           mobile\n",
      "mca1         sai            9848380811\n",
      "mca2         ramu           5438879877\n",
      "mca3         lakshmi        4756458137\n",
      "mca4         ravi           9848380822\n"
     ]
    }
   ],
   "source": [
    "import re\n",
    "fh1=open('book.txt','r')\n",
    "fh2=open('mystory.txt','w')\n",
    "data=fh1.read().strip()\n",
    "print(data)\n",
    "fh1.close()\n",
    "fh2.close()"
   ]
  },
  {
   "cell_type": "code",
   "execution_count": 17,
   "metadata": {},
   "outputs": [],
   "source": [
    "import re\n",
    "fh1=open('book.txt','r')\n",
    "fh2=open('invalidreport.txt','w')\n",
    "count = 0\n",
    "for line in fh1:\n",
    "    count += 1\n",
    "    if count ==1:\n",
    "        fh2.write(line)\n",
    "    else:\n",
    "        if (re.search('[0-5]\\d{9}',line)):\n",
    "            fh2.write(line)\n",
    "fh1.close()\n",
    "fh2.close()"
   ]
  },
  {
   "cell_type": "code",
   "execution_count": 18,
   "metadata": {},
   "outputs": [
    {
     "name": "stdout",
     "output_type": "stream",
     "text": [
      "mca2         ramu           5438879877\n",
      "\n",
      "mca3         lakshmi        4756458137\n",
      "\n"
     ]
    }
   ],
   "source": [
    "import re\n",
    "fh1=open('book.txt','r')\n",
    "fh2=open('invalidreport.txt','w')\n",
    "count = 0\n",
    "for line in fh1:\n",
    "    count += 1\n",
    "    if count ==1:\n",
    "        fh2.write(line)\n",
    "    else:\n",
    "        if (re.search('[0-5]\\d{9}',line)):\n",
    "            print(line)\n",
    "            fh2.write(line)\n",
    "fh1.close()\n",
    "fh2.close()"
   ]
  },
  {
   "cell_type": "code",
   "execution_count": 1,
   "metadata": {},
   "outputs": [
    {
     "ename": "NameError",
     "evalue": "name 'fh2' is not defined",
     "output_type": "error",
     "traceback": [
      "\u001b[1;31m---------------------------------------------------------------------------\u001b[0m",
      "\u001b[1;31mNameError\u001b[0m                                 Traceback (most recent call last)",
      "\u001b[1;32m<ipython-input-1-9ebf21729660>\u001b[0m in \u001b[0;36m<module>\u001b[1;34m\u001b[0m\n\u001b[0;32m      5\u001b[0m     \u001b[0mcount\u001b[0m \u001b[1;33m+=\u001b[0m \u001b[1;36m1\u001b[0m\u001b[1;33m\u001b[0m\u001b[1;33m\u001b[0m\u001b[0m\n\u001b[0;32m      6\u001b[0m     \u001b[1;32mif\u001b[0m \u001b[0mcount\u001b[0m \u001b[1;33m==\u001b[0m\u001b[1;36m1\u001b[0m\u001b[1;33m:\u001b[0m\u001b[1;33m\u001b[0m\u001b[1;33m\u001b[0m\u001b[0m\n\u001b[1;32m----> 7\u001b[1;33m         \u001b[0mfh2\u001b[0m\u001b[1;33m.\u001b[0m\u001b[0mwrite\u001b[0m\u001b[1;33m(\u001b[0m\u001b[0mline\u001b[0m\u001b[1;33m)\u001b[0m\u001b[1;33m\u001b[0m\u001b[1;33m\u001b[0m\u001b[0m\n\u001b[0m",
      "\u001b[1;31mNameError\u001b[0m: name 'fh2' is not defined"
     ]
    }
   ],
   "source": [
    "import re\n",
    "fh1=open('book.txt','r')\n",
    "count = 0\n",
    "for line in fh1:\n",
    "    count += 1\n",
    "    if count ==1:\n",
    "        fh2.write(line)"
   ]
  },
  {
   "cell_type": "code",
   "execution_count": 3,
   "metadata": {},
   "outputs": [
    {
     "name": "stdout",
     "output_type": "stream",
     "text": [
      "9\n",
      "2 3 5 7 "
     ]
    }
   ],
   "source": [
    "n = int(input())\n",
    "for num in range(2,n+1):\n",
    "    flag = 0\n",
    "    for i in range(2,num//2+1):\n",
    "        if num%i ==0:\n",
    "            flag = 1\n",
    "            break\n",
    "    if flag ==0:\n",
    "        print(num,end=' ')"
   ]
  },
  {
   "cell_type": "code",
   "execution_count": 5,
   "metadata": {},
   "outputs": [
    {
     "name": "stdout",
     "output_type": "stream",
     "text": [
      "Enter first number: 5\n",
      "Enter second number: 10\n",
      "Product is:  50\n"
     ]
    }
   ],
   "source": [
    "def product(a,b):\n",
    "    if(a<b):\n",
    "        return product(b,a)\n",
    "    elif(b!=0):\n",
    "        return(a+product(a,b-1))\n",
    "    else:\n",
    "        return 0\n",
    "a=int(input(\"Enter first number: \"))\n",
    "b=int(input(\"Enter second number: \"))\n",
    "print(\"Product is: \",product(a,b))"
   ]
  },
  {
   "cell_type": "code",
   "execution_count": 8,
   "metadata": {},
   "outputs": [
    {
     "name": "stdout",
     "output_type": "stream",
     "text": [
      "5\n"
     ]
    },
    {
     "ename": "AttributeError",
     "evalue": "'int' object has no attribute 'split'",
     "output_type": "error",
     "traceback": [
      "\u001b[1;31m---------------------------------------------------------------------------\u001b[0m",
      "\u001b[1;31mAttributeError\u001b[0m                            Traceback (most recent call last)",
      "\u001b[1;32m<ipython-input-8-1696c973ce08>\u001b[0m in \u001b[0;36m<module>\u001b[1;34m\u001b[0m\n\u001b[0;32m      1\u001b[0m \u001b[0ma\u001b[0m \u001b[1;33m=\u001b[0m \u001b[0mint\u001b[0m\u001b[1;33m(\u001b[0m\u001b[0minput\u001b[0m\u001b[1;33m(\u001b[0m\u001b[1;33m)\u001b[0m\u001b[1;33m)\u001b[0m\u001b[1;33m\u001b[0m\u001b[1;33m\u001b[0m\u001b[0m\n\u001b[1;32m----> 2\u001b[1;33m \u001b[1;32mfor\u001b[0m \u001b[0mi\u001b[0m \u001b[1;32min\u001b[0m \u001b[0ma\u001b[0m\u001b[1;33m.\u001b[0m\u001b[0msplit\u001b[0m\u001b[1;33m(\u001b[0m\u001b[1;33m)\u001b[0m\u001b[1;33m:\u001b[0m\u001b[1;33m\u001b[0m\u001b[1;33m\u001b[0m\u001b[0m\n\u001b[0m\u001b[0;32m      3\u001b[0m     \u001b[0mprint\u001b[0m\u001b[1;33m(\u001b[0m\u001b[0mi\u001b[0m\u001b[1;33m,\u001b[0m\u001b[0mend\u001b[0m\u001b[1;33m=\u001b[0m\u001b[1;34m' '\u001b[0m\u001b[1;33m)\u001b[0m\u001b[1;33m\u001b[0m\u001b[1;33m\u001b[0m\u001b[0m\n\u001b[0;32m      4\u001b[0m \u001b[0mprod\u001b[0m\u001b[1;33m=\u001b[0m\u001b[1;36m1\u001b[0m\u001b[1;33m\u001b[0m\u001b[1;33m\u001b[0m\u001b[0m\n\u001b[0;32m      5\u001b[0m \u001b[0mi\u001b[0m\u001b[1;33m=\u001b[0m\u001b[1;36m1\u001b[0m\u001b[1;33m\u001b[0m\u001b[1;33m\u001b[0m\u001b[0m\n",
      "\u001b[1;31mAttributeError\u001b[0m: 'int' object has no attribute 'split'"
     ]
    }
   ],
   "source": [
    "a = int(input())\n",
    "for i in a.split():\n",
    "    print(i,end=' ')\n",
    "prod=1\n",
    "i=1\n",
    "while i<=a:\n",
    "    prod=(prod*i)%(10**9+7)\n",
    "    i=i+1\n",
    "print(prod)"
   ]
  },
  {
   "cell_type": "code",
   "execution_count": 6,
   "metadata": {},
   "outputs": [
    {
     "name": "stdout",
     "output_type": "stream",
     "text": [
      "6\n",
      "7\n",
      "no\n"
     ]
    }
   ],
   "source": [
    "n = int(input())\n",
    "t = int(input())\n",
    "c=0\n",
    "for i in range(t):\n",
    "    special_flag = 0\n",
    "    for j in range(2,(n//2)+1):\n",
    "        if n%j == 0:\n",
    "            prime_flag = 1\n",
    "        for k in range(2,(n//2)+1):\n",
    "            if j%k == 0:\n",
    "                prime_flag = 0\n",
    "                break\n",
    "        if prime_flag==1:\n",
    "            c+=1\n",
    "if c>=p:\n",
    "     special_flag == 1:\n",
    "                 break\n",
    "if special_flag == 1:\n",
    "    print(\"yes\")\n",
    "else:\n",
    "    print(\"no\")\n",
    "    \n",
    "          \n",
    "\n",
    "            "
   ]
  },
  {
   "cell_type": "code",
   "execution_count": 18,
   "metadata": {},
   "outputs": [
    {
     "name": "stdout",
     "output_type": "stream",
     "text": [
      "32\n",
      "32 89\n",
      "76\n",
      "76 11\n",
      "56\n",
      "56 55\n",
      "79\n",
      "EXIT\n",
      "\n",
      " 76\n"
     ]
    }
   ],
   "source": [
    "n = input()\n",
    "even = list()\n",
    "while n!='EXIT':\n",
    "    n = int(n)\n",
    "    if n%2==0:\n",
    "        even.append(n)\n",
    "        print(n,end=' ')\n",
    "    n=input()\n",
    "print('\\n',max(even),sep=' ')\n",
    "        "
   ]
  },
  {
   "cell_type": "code",
   "execution_count": null,
   "metadata": {},
   "outputs": [],
   "source": []
  },
  {
   "cell_type": "code",
   "execution_count": null,
   "metadata": {},
   "outputs": [],
   "source": []
  }
 ],
 "metadata": {
  "kernelspec": {
   "display_name": "Python 3",
   "language": "python",
   "name": "python3"
  },
  "language_info": {
   "codemirror_mode": {
    "name": "ipython",
    "version": 3
   },
   "file_extension": ".py",
   "mimetype": "text/x-python",
   "name": "python",
   "nbconvert_exporter": "python",
   "pygments_lexer": "ipython3",
   "version": "3.7.3"
  }
 },
 "nbformat": 4,
 "nbformat_minor": 2
}
