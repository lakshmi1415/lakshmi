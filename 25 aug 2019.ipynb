{
 "cells": [
  {
   "cell_type": "code",
   "execution_count": 1,
   "metadata": {},
   "outputs": [
    {
     "name": "stdout",
     "output_type": "stream",
     "text": [
      "enter a year2013\n",
      "not a leap year\n"
     ]
    },
    {
     "data": {
      "text/plain": [
       "2013"
      ]
     },
     "execution_count": 1,
     "metadata": {},
     "output_type": "execute_result"
    }
   ],
   "source": [
    "a=int(input('enter a year')) \n",
    "def leap():\n",
    "        if a%4==0 and a%100==0 or a%400==0:\n",
    "             print('leap year') \n",
    "        else:\n",
    "            print('not a leap year')\n",
    "            return a\n",
    "leap()\n"
   ]
  },
  {
   "cell_type": "code",
   "execution_count": 33,
   "metadata": {},
   "outputs": [
    {
     "name": "stdout",
     "output_type": "stream",
     "text": [
      "enter a number6\n"
     ]
    },
    {
     "data": {
      "text/plain": [
       "720"
      ]
     },
     "execution_count": 33,
     "metadata": {},
     "output_type": "execute_result"
    }
   ],
   "source": [
    "a=int(input('enter a number'))\n",
    "def fact():\n",
    "    fact=1\n",
    "    i=1\n",
    "    while i<=a:\n",
    "        fact=fact*i\n",
    "        i=i+1\n",
    "    return fact\n",
    "fact()"
   ]
  },
  {
   "cell_type": "code",
   "execution_count": 11,
   "metadata": {},
   "outputs": [
    {
     "name": "stdout",
     "output_type": "stream",
     "text": [
      "enter a first number4\n",
      "enter a second number6\n",
      "enter a third number8\n",
      "8\n"
     ]
    }
   ],
   "source": [
    "n1=int(input('enter a first number'))\n",
    "n2=int(input('enter a second number'))\n",
    "n3= int(input('enter a third number'))\n",
    "def greatest():\n",
    "    if(n1>=n2)and(n1>=n2):\n",
    "        largest=n1\n",
    "    elif(n2>=n3)and(n2>=n3):\n",
    "        largest=n2\n",
    "    else:\n",
    "        largest=n3\n",
    "        print(largest)\n",
    "greatest()"
   ]
  },
  {
   "cell_type": "code",
   "execution_count": 40,
   "metadata": {},
   "outputs": [
    {
     "name": "stdout",
     "output_type": "stream",
     "text": [
      "1\n",
      "2\n",
      "3\n",
      "4\n",
      "5\n"
     ]
    },
    {
     "data": {
      "text/plain": [
       "15"
      ]
     },
     "execution_count": 40,
     "metadata": {},
     "output_type": "execute_result"
    }
   ],
   "source": [
    "# sum of all the numbers in a list\n",
    "def add(n):\n",
    "    s=0\n",
    "    for i in range(0,len(n)):\n",
    "        s=s+l[i]\n",
    "    return s\n",
    "l=[]\n",
    "for i in range(0,5):\n",
    "    n=int(input())\n",
    "    l.append(n)\n",
    "add(l)\n",
    "            \n",
    "    "
   ]
  },
  {
   "cell_type": "code",
   "execution_count": 43,
   "metadata": {},
   "outputs": [
    {
     "name": "stdout",
     "output_type": "stream",
     "text": [
      "1\n",
      "2\n",
      "3\n",
      "4\n",
      "5\n"
     ]
    },
    {
     "data": {
      "text/plain": [
       "120"
      ]
     },
     "execution_count": 43,
     "metadata": {},
     "output_type": "execute_result"
    }
   ],
   "source": [
    "# multiply of all the numbers in a list\n",
    "def add(n):\n",
    "    s=1\n",
    "    for i in range(0,len(n)):\n",
    "        s=s*l[i]\n",
    "    return s\n",
    "l=[]\n",
    "for i in range(0,5):\n",
    "    n=int(input())\n",
    "    l.append(n)\n",
    "add(l)"
   ]
  },
  {
   "cell_type": "code",
   "execution_count": 55,
   "metadata": {},
   "outputs": [
    {
     "name": "stdout",
     "output_type": "stream",
     "text": [
      "lakshmi\n"
     ]
    },
    {
     "data": {
      "text/plain": [
       "'imhskal'"
      ]
     },
     "execution_count": 55,
     "metadata": {},
     "output_type": "execute_result"
    }
   ],
   "source": [
    "def rev(s):\n",
    "    return s[::-1]\n",
    "s=(input())\n",
    "rev(s)"
   ]
  },
  {
   "cell_type": "code",
   "execution_count": 14,
   "metadata": {},
   "outputs": [
    {
     "name": "stdout",
     "output_type": "stream",
     "text": [
      "6\n"
     ]
    },
    {
     "data": {
      "text/plain": [
       "[1, 2, 3, 6]"
      ]
     },
     "execution_count": 14,
     "metadata": {},
     "output_type": "execute_result"
    }
   ],
   "source": [
    "def factors(n):\n",
    "    list=[]\n",
    "    for i in range(1,n+1):\n",
    "        if n%i==0:\n",
    "            list.append(i)\n",
    "    return list\n",
    "n=int(input())\n",
    "factors(n)       "
   ]
  },
  {
   "cell_type": "code",
   "execution_count": 24,
   "metadata": {},
   "outputs": [
    {
     "name": "stdout",
     "output_type": "stream",
     "text": [
      "2\n"
     ]
    },
    {
     "data": {
      "text/plain": [
       "'prime'"
      ]
     },
     "execution_count": 24,
     "metadata": {},
     "output_type": "execute_result"
    }
   ],
   "source": [
    "def prime(n):\n",
    "    c=0\n",
    "    for i in range(1,n+1):\n",
    "        if(n%i==0):\n",
    "            c+=1\n",
    "    if(c==2):\n",
    "        return \"prime\"\n",
    "    else:\n",
    "        return  \"not\"\n",
    "n=int(input())\n",
    "prime(n)\n"
   ]
  },
  {
   "cell_type": "code",
   "execution_count": 1,
   "metadata": {},
   "outputs": [
    {
     "name": "stdout",
     "output_type": "stream",
     "text": [
      "43\n"
     ]
    },
    {
     "data": {
      "text/plain": [
       "2"
      ]
     },
     "execution_count": 1,
     "metadata": {},
     "output_type": "execute_result"
    }
   ],
   "source": [
    "def digit(n):\n",
    "    c=0\n",
    "    while(n>0):\n",
    "        n=n//10\n",
    "        c+=1\n",
    "    return c\n",
    "n=int(input())\n",
    "digit(n)"
   ]
  },
  {
   "cell_type": "code",
   "execution_count": null,
   "metadata": {},
   "outputs": [],
   "source": []
  }
 ],
 "metadata": {
  "kernelspec": {
   "display_name": "Python 3",
   "language": "python",
   "name": "python3"
  },
  "language_info": {
   "codemirror_mode": {
    "name": "ipython",
    "version": 3
   },
   "file_extension": ".py",
   "mimetype": "text/x-python",
   "name": "python",
   "nbconvert_exporter": "python",
   "pygments_lexer": "ipython3",
   "version": "3.7.3"
  }
 },
 "nbformat": 4,
 "nbformat_minor": 2
}
