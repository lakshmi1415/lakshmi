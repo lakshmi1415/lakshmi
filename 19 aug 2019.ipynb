{
 "cells": [
  {
   "cell_type": "code",
   "execution_count": 2,
   "metadata": {},
   "outputs": [
    {
     "name": "stdout",
     "output_type": "stream",
     "text": [
      "python\n"
     ]
    }
   ],
   "source": [
    "s1='python'\n",
    "print(s1)"
   ]
  },
  {
   "cell_type": "code",
   "execution_count": 3,
   "metadata": {},
   "outputs": [
    {
     "data": {
      "text/plain": [
       "'n'"
      ]
     },
     "execution_count": 3,
     "metadata": {},
     "output_type": "execute_result"
    }
   ],
   "source": [
    "s1[-1]"
   ]
  },
  {
   "cell_type": "code",
   "execution_count": 5,
   "metadata": {},
   "outputs": [
    {
     "data": {
      "text/plain": [
       "('o', 'h')"
      ]
     },
     "execution_count": 5,
     "metadata": {},
     "output_type": "execute_result"
    }
   ],
   "source": [
    "s1[-2],s1[-3]"
   ]
  },
  {
   "cell_type": "code",
   "execution_count": 6,
   "metadata": {},
   "outputs": [
    {
     "data": {
      "text/plain": [
       "6"
      ]
     },
     "execution_count": 6,
     "metadata": {},
     "output_type": "execute_result"
    }
   ],
   "source": [
    "len(s1)"
   ]
  },
  {
   "cell_type": "code",
   "execution_count": 12,
   "metadata": {},
   "outputs": [
    {
     "name": "stdout",
     "output_type": "stream",
     "text": [
      "nohtyp\n",
      "nohtyp\n",
      "noh\n"
     ]
    }
   ],
   "source": [
    "print(s1[-1::-1])\n",
    "print(s1[::-1])\n",
    "print(s1[:-4:-1])"
   ]
  },
  {
   "cell_type": "code",
   "execution_count": 13,
   "metadata": {},
   "outputs": [
    {
     "data": {
      "text/plain": [
       "'a'"
      ]
     },
     "execution_count": 13,
     "metadata": {},
     "output_type": "execute_result"
    }
   ],
   "source": [
    "s9='haloo'\n",
    "s9[1]"
   ]
  },
  {
   "cell_type": "code",
   "execution_count": 14,
   "metadata": {},
   "outputs": [
    {
     "ename": "SyntaxError",
     "evalue": "invalid syntax (<ipython-input-14-8eb8be976cb6>, line 5)",
     "output_type": "error",
     "traceback": [
      "\u001b[1;36m  File \u001b[1;32m\"<ipython-input-14-8eb8be976cb6>\"\u001b[1;36m, line \u001b[1;32m5\u001b[0m\n\u001b[1;33m    s9[1]'e'\u001b[0m\n\u001b[1;37m           ^\u001b[0m\n\u001b[1;31mSyntaxError\u001b[0m\u001b[1;31m:\u001b[0m invalid syntax\n"
     ]
    }
   ],
   "source": [
    "print(s1)\n",
    "s1=77\n",
    "print(s1)\n",
    "print(s9)\n",
    "s9[1]'e'"
   ]
  },
  {
   "cell_type": "code",
   "execution_count": 15,
   "metadata": {},
   "outputs": [
    {
     "name": "stdout",
     "output_type": "stream",
     "text": [
      "hello\n"
     ]
    }
   ],
   "source": [
    "s9=\"hello\"\n",
    "print(s9)"
   ]
  },
  {
   "cell_type": "code",
   "execution_count": 17,
   "metadata": {},
   "outputs": [
    {
     "name": "stdout",
     "output_type": "stream",
     "text": [
      "False\n",
      "True\n",
      "False\n",
      "False\n",
      "True\n",
      "False\n"
     ]
    }
   ],
   "source": [
    "print(2==3)\n",
    "print(2 !=3)\n",
    "print(5>6)\n",
    "print(9>56)\n",
    "print(-5>-9)\n",
    "print(-5<-9)"
   ]
  },
  {
   "cell_type": "code",
   "execution_count": 18,
   "metadata": {},
   "outputs": [
    {
     "name": "stdout",
     "output_type": "stream",
     "text": [
      "2==3 False\n",
      "2 !=3 True\n"
     ]
    }
   ],
   "source": [
    "print(\"2==3\",2==3)\n",
    "print(\"2 !=3\",2 !=3)"
   ]
  },
  {
   "cell_type": "code",
   "execution_count": 23,
   "metadata": {},
   "outputs": [
    {
     "name": "stdout",
     "output_type": "stream",
     "text": [
      "True\n",
      "False\n",
      "False\n",
      "False\n"
     ]
    }
   ],
   "source": [
    "print(0==0.0)\n",
    "print(5==True)\n",
    "print(-10==True)\n",
    "print(0==True)"
   ]
  },
  {
   "cell_type": "code",
   "execution_count": null,
   "metadata": {},
   "outputs": [],
   "source": [
    "print(7>True)\n",
    "print(7>False)"
   ]
  },
  {
   "cell_type": "code",
   "execution_count": null,
   "metadata": {},
   "outputs": [],
   "source": []
  },
  {
   "cell_type": "code",
   "execution_count": 1,
   "metadata": {},
   "outputs": [
    {
     "name": "stdout",
     "output_type": "stream",
     "text": [
      "hellohellohello\n"
     ]
    }
   ],
   "source": [
    "a=\"hello\"\n",
    "print(a*3)"
   ]
  },
  {
   "cell_type": "code",
   "execution_count": 2,
   "metadata": {},
   "outputs": [
    {
     "name": "stdout",
     "output_type": "stream",
     "text": [
      "enter number:3\n",
      "enter a string:lakshmi\n",
      "lakshmilakshmilakshmi\n"
     ]
    }
   ],
   "source": [
    "t=int(input('enter number:'))\n",
    "word=input(\"enter a string:\")\n",
    "print(t*word)"
   ]
  },
  {
   "cell_type": "code",
   "execution_count": 3,
   "metadata": {},
   "outputs": [
    {
     "data": {
      "text/plain": [
       "True"
      ]
     },
     "execution_count": 3,
     "metadata": {},
     "output_type": "execute_result"
    }
   ],
   "source": [
    "'p' in 'python'"
   ]
  },
  {
   "cell_type": "code",
   "execution_count": 4,
   "metadata": {},
   "outputs": [
    {
     "data": {
      "text/plain": [
       "False"
      ]
     },
     "execution_count": 4,
     "metadata": {},
     "output_type": "execute_result"
    }
   ],
   "source": [
    "'a' in 'python'"
   ]
  },
  {
   "cell_type": "code",
   "execution_count": 8,
   "metadata": {},
   "outputs": [
    {
     "name": "stdout",
     "output_type": "stream",
     "text": [
      "0\n",
      "end\n",
      "1\n",
      "end\n",
      "2\n",
      "end\n",
      "3\n",
      "end\n",
      "4\n",
      "end\n"
     ]
    }
   ],
   "source": [
    "for i in range(5):\n",
    "    print(i)\n",
    "    print('end')"
   ]
  },
  {
   "cell_type": "code",
   "execution_count": 9,
   "metadata": {},
   "outputs": [
    {
     "name": "stdout",
     "output_type": "stream",
     "text": [
      "h\n",
      "e\n",
      "l\n",
      "l\n",
      "o\n"
     ]
    }
   ],
   "source": [
    "for i in a:\n",
    "    print(i)"
   ]
  },
  {
   "cell_type": "code",
   "execution_count": 10,
   "metadata": {},
   "outputs": [
    {
     "name": "stdout",
     "output_type": "stream",
     "text": [
      "h e l l o "
     ]
    }
   ],
   "source": [
    "for i in a:\n",
    "    print(i,end =' ')"
   ]
  },
  {
   "cell_type": "code",
   "execution_count": 11,
   "metadata": {},
   "outputs": [
    {
     "name": "stdout",
     "output_type": "stream",
     "text": [
      "45,69\n",
      "45 69\n"
     ]
    }
   ],
   "source": [
    "print(45,69,sep =',')\n",
    "print(45,69)"
   ]
  },
  {
   "cell_type": "code",
   "execution_count": 12,
   "metadata": {},
   "outputs": [
    {
     "name": "stdout",
     "output_type": "stream",
     "text": [
      "Enter your name:lakshmi\n",
      "lakshmi\n"
     ]
    }
   ],
   "source": [
    "name=input('Enter your name:')\n",
    "print(name)"
   ]
  },
  {
   "cell_type": "code",
   "execution_count": 13,
   "metadata": {},
   "outputs": [
    {
     "name": "stdout",
     "output_type": "stream",
     "text": [
      "lakshmi\n"
     ]
    }
   ],
   "source": [
    "s1='lakshmi'\n",
    "s2='kurra'\n",
    "print(s1)"
   ]
  },
  {
   "cell_type": "code",
   "execution_count": 14,
   "metadata": {},
   "outputs": [
    {
     "name": "stdout",
     "output_type": "stream",
     "text": [
      "firstnamelakshmi\n",
      "lastnamekurra\n",
      "lakshmikurra\n"
     ]
    }
   ],
   "source": [
    "firstname=input('firstname')\n",
    "lastname=input('lastname')\n",
    "print(firstname + lastname)"
   ]
  },
  {
   "cell_type": "code",
   "execution_count": 15,
   "metadata": {},
   "outputs": [
    {
     "name": "stdout",
     "output_type": "stream",
     "text": [
      "enter a9\n",
      "enter b0\n",
      "<class 'str'> <class 'str'>\n",
      "9\n"
     ]
    }
   ],
   "source": [
    "a=input('enter a')\n",
    "b=input('enter b')\n",
    "print(type(a),type(b))\n",
    "print(int(a)+int(b))"
   ]
  },
  {
   "cell_type": "code",
   "execution_count": 16,
   "metadata": {},
   "outputs": [
    {
     "ename": "NameError",
     "evalue": "name 'firstName' is not defined",
     "output_type": "error",
     "traceback": [
      "\u001b[1;31m---------------------------------------------------------------------------\u001b[0m",
      "\u001b[1;31mNameError\u001b[0m                                 Traceback (most recent call last)",
      "\u001b[1;32m<ipython-input-16-3c35df99cf0c>\u001b[0m in \u001b[0;36m<module>\u001b[1;34m\u001b[0m\n\u001b[1;32m----> 1\u001b[1;33m \u001b[0mprint\u001b[0m\u001b[1;33m(\u001b[0m\u001b[0mfirstName\u001b[0m\u001b[1;33m,\u001b[0m\u001b[0mlastName\u001b[0m\u001b[1;33m,\u001b[0m\u001b[0msep\u001b[0m\u001b[1;33m+\u001b[0m\u001b[1;34m'.'\u001b[0m\u001b[1;33m)\u001b[0m\u001b[1;33m\u001b[0m\u001b[1;33m\u001b[0m\u001b[0m\n\u001b[0m",
      "\u001b[1;31mNameError\u001b[0m: name 'firstName' is not defined"
     ]
    }
   ],
   "source": [
    "print(firstName,lastName,sep+'.')"
   ]
  },
  {
   "cell_type": "code",
   "execution_count": 17,
   "metadata": {},
   "outputs": [
    {
     "name": "stdout",
     "output_type": "stream",
     "text": [
      "enter a number67\n",
      "67 is odd\n"
     ]
    }
   ],
   "source": [
    "n= int(input('enter a number'))\n",
    "if n%2==0:\n",
    "    print(n,\"is even\")\n",
    "else:\n",
    "    print(n,\"is odd\")"
   ]
  },
  {
   "cell_type": "code",
   "execution_count": 23,
   "metadata": {},
   "outputs": [
    {
     "name": "stdout",
     "output_type": "stream",
     "text": [
      "enter a number22\n",
      "22 is positive\n"
     ]
    }
   ],
   "source": [
    "n=int(input('enter a number'))\n",
    "if n>0:\n",
    "    print(n,'is positive')\n",
    "if n<0:\n",
    "    print(n,'is negtive')\n",
    "if n==0:\n",
    "    print('zero')"
   ]
  },
  {
   "cell_type": "code",
   "execution_count": 24,
   "metadata": {},
   "outputs": [
    {
     "name": "stdout",
     "output_type": "stream",
     "text": [
      "enter a number-89\n",
      "-89 is negtive\n"
     ]
    }
   ],
   "source": [
    "n = int(input('enter a number'))\n",
    "if n>0:\n",
    "    print(n,'is positive')\n",
    "if n<0:\n",
    "    print(n,'is negtive')\n",
    "else:\n",
    "    print('zero')"
   ]
  },
  {
   "cell_type": "code",
   "execution_count": 27,
   "metadata": {},
   "outputs": [
    {
     "name": "stdout",
     "output_type": "stream",
     "text": [
      "enter a number16\n",
      "16 is even\n",
      "multiple of 8\n"
     ]
    }
   ],
   "source": [
    "n = int(input('enter a number'))\n",
    "if n%2:\n",
    "    print(n,'is odd')\n",
    "    if n%7==0:\n",
    "        print('multiple of 7')\n",
    "    else:\n",
    "            print('not a multlple of 7')\n",
    "else:\n",
    "    print(n,'is even')\n",
    "    if n%8==0:\n",
    "        print('multiple of 8')\n",
    "    else:\n",
    "            print('not multiple of 8')"
   ]
  },
  {
   "cell_type": "code",
   "execution_count": 29,
   "metadata": {},
   "outputs": [
    {
     "name": "stdout",
     "output_type": "stream",
     "text": [
      "16 is divisible by 2 and multiple of 8\n"
     ]
    }
   ],
   "source": [
    "if n%2==0 and n%8==0:\n",
    "    print(n,'is divisible by 2 and multiple of 8')\n",
    "elif n%2==1 and n%7==0:\n",
    "          print(n,'is divisible by 3 and multiple of 7')\n",
    "else:\n",
    "          print('doesn\\'t satisfy any condition')"
   ]
  },
  {
   "cell_type": "code",
   "execution_count": 34,
   "metadata": {
    "scrolled": true
   },
   "outputs": [
    {
     "name": "stdout",
     "output_type": "stream",
     "text": [
      "99 97 95 93 91 89 87 85 83 81 79 77 75 73 71 69 67 65 63 61 59 57 55 53 51 "
     ]
    }
   ],
   "source": [
    "for i in range(99,50,-2):\n",
    "    print(i,end =' ')"
   ]
  },
  {
   "cell_type": "code",
   "execution_count": 9,
   "metadata": {},
   "outputs": [
    {
     "name": "stdout",
     "output_type": "stream",
     "text": [
      "51 53 55 57 59 61 63 65 67 69 71 73 75 77 79 81 83 85 87 89 91 93 95 97 99 "
     ]
    }
   ],
   "source": [
    "for i in range(51,100,2):\n",
    "    print(i,end =' ')"
   ]
  },
  {
   "cell_type": "code",
   "execution_count": 1,
   "metadata": {},
   "outputs": [
    {
     "name": "stdout",
     "output_type": "stream",
     "text": [
      "enter a year2016\n",
      "not  leap year\n"
     ]
    }
   ],
   "source": [
    "a=int(input('enter a year'))\n",
    "if a%4==0 and a%100==0 or a%400==0:\n",
    "    print('leap year')\n",
    "else:\n",
    "    print('not  leap year')"
   ]
  },
  {
   "cell_type": "code",
   "execution_count": 12,
   "metadata": {},
   "outputs": [
    {
     "name": "stdout",
     "output_type": "stream",
     "text": [
      "enter a number153\n",
      "armstrong\n"
     ]
    }
   ],
   "source": [
    "n=int(input('enter a number'))\n",
    "o=n\n",
    "r=0\n",
    "sum=0\n",
    "while n !=0:\n",
    "    sum=sum+(n%10)**3\n",
    "    n=(n//10)\n",
    "if original==sum :\n",
    "        print('armstrong')\n",
    "else:\n",
    "        print('not armstrong')"
   ]
  },
  {
   "cell_type": "code",
   "execution_count": 14,
   "metadata": {},
   "outputs": [
    {
     "name": "stdout",
     "output_type": "stream",
     "text": [
      "enter a number5\n",
      "120\n"
     ]
    }
   ],
   "source": [
    "#factorial\n",
    "a=int(input('enter a number'))\n",
    "fact=1\n",
    "i=1\n",
    "while i<=a:\n",
    "    fact=fact*i\n",
    "    i=i+1\n",
    "print(fact)"
   ]
  },
  {
   "cell_type": "code",
   "execution_count": 6,
   "metadata": {},
   "outputs": [
    {
     "name": "stdout",
     "output_type": "stream",
     "text": [
      "enter a number6\n",
      "enter a number7\n",
      "7 6\n"
     ]
    }
   ],
   "source": [
    "#swapping\n",
    "a=int(input('enter a number'))\n",
    "b=int(input('enter a number'))\n",
    "t=a\n",
    "a=b\n",
    "b=t\n",
    "print(a,b)"
   ]
  },
  {
   "cell_type": "markdown",
   "metadata": {},
   "source": [
    "- [x] Qst1\n",
    "- [] Qst2"
   ]
  },
  {
   "cell_type": "markdown",
   "metadata": {},
   "source": [
    "# list"
   ]
  },
  {
   "cell_type": "code",
   "execution_count": 2,
   "metadata": {},
   "outputs": [
    {
     "data": {
      "text/plain": [
       "list"
      ]
     },
     "execution_count": 2,
     "metadata": {},
     "output_type": "execute_result"
    }
   ],
   "source": [
    "mylist = [\"sai\"]\n",
    "type(mylist)"
   ]
  },
  {
   "cell_type": "code",
   "execution_count": 4,
   "metadata": {},
   "outputs": [
    {
     "data": {
      "text/plain": [
       "'sai'"
      ]
     },
     "execution_count": 4,
     "metadata": {},
     "output_type": "execute_result"
    }
   ],
   "source": [
    "names=[\"sai\",\"ram\"]\n",
    "names[0]"
   ]
  },
  {
   "cell_type": "code",
   "execution_count": 5,
   "metadata": {},
   "outputs": [
    {
     "data": {
      "text/plain": [
       "'ram'"
      ]
     },
     "execution_count": 5,
     "metadata": {},
     "output_type": "execute_result"
    }
   ],
   "source": [
    "names[-1]"
   ]
  },
  {
   "cell_type": "code",
   "execution_count": null,
   "metadata": {},
   "outputs": [],
   "source": []
  },
  {
   "cell_type": "code",
   "execution_count": null,
   "metadata": {},
   "outputs": [],
   "source": []
  }
 ],
 "metadata": {
  "kernelspec": {
   "display_name": "Python 3",
   "language": "python",
   "name": "python3"
  },
  "language_info": {
   "codemirror_mode": {
    "name": "ipython",
    "version": 3
   },
   "file_extension": ".py",
   "mimetype": "text/x-python",
   "name": "python",
   "nbconvert_exporter": "python",
   "pygments_lexer": "ipython3",
   "version": "3.7.3"
  }
 },
 "nbformat": 4,
 "nbformat_minor": 2
}
